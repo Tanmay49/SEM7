{
  "nbformat": 4,
  "nbformat_minor": 0,
  "metadata": {
    "colab": {
      "provenance": []
    },
    "kernelspec": {
      "name": "python3",
      "display_name": "Python 3"
    },
    "language_info": {
      "name": "python"
    }
  },
  "cells": [
    {
      "cell_type": "code",
      "execution_count": null,
      "metadata": {
        "id": "3eaU36fF8ICH"
      },
      "outputs": [],
      "source": [
        "#import libraries\n",
        "import pandas as pd\n",
        "import numpy as np\n",
        "import matplotlib.pyplot as plt\n",
        "import warnings\n",
        "#We do not want to see warnings\n",
        "warnings.filterwarnings(\"ignore\")\n",
        "#import data\n",
        "data = pd.read_csv(\"uber.csv\")"
      ]
    },
    {
      "cell_type": "code",
      "source": [
        "df[\"pickup_datetime\"] = pd.to_datetime(df[\"pickup_datetime\"])\n",
        "df.corr()\n",
        "df.dropna(inplace=True)\n"
      ],
      "metadata": {
        "id": "7bsSyKdl8QKD"
      },
      "execution_count": null,
      "outputs": []
    },
    {
      "cell_type": "code",
      "source": [
        "plt.boxplot(df['fare_amount'])\n"
      ],
      "metadata": {
        "id": "yWg9x5OY8lLS"
      },
      "execution_count": null,
      "outputs": []
    },
    {
      "cell_type": "code",
      "source": [
        "q_low = df[\"fare_amount\"].quantile(0.01)\n",
        "q_hi  = df[\"fare_amount\"].quantile(0.99)\n",
        "\n",
        "df = df[(df[\"fare_amount\"] < q_hi) & (df[\"fare_amount\"] > q_low)"
      ],
      "metadata": {
        "id": "69c_ZOdZ8pvI"
      },
      "execution_count": null,
      "outputs": []
    },
    {
      "cell_type": "code",
      "source": [
        "from sklearn.model_selection import train_test_split\n",
        "#Take x as predictor variable\n",
        "x = df.drop(\"fare_amount\", axis = 1)\n",
        "#And y as target variable\n",
        "y = df['fare_amount']\n",
        "#Necessary to apply model\n",
        "x['pickup_datetime'] = pd.to_numeric(pd.to_datetime(x['pickup_datetime']))\n",
        "x = x.loc[:, x.columns.str.contains('^Unnamed')]\n",
        "x_train, x_test, y_train, y_test = train_test_split(x, y, test_size = 0.2, random_state = 1)\n",
        "from sklearn.linear_model import LinearRegression\n",
        "lrmodel = LinearRegression()\n",
        "lrmodel.fit(x_train, y_train)"
      ],
      "metadata": {
        "id": "I34yrqvO8tgk"
      },
      "execution_count": null,
      "outputs": []
    },
    {
      "cell_type": "code",
      "source": [
        "predict = lrmodel.predict(x_test)\n",
        "#Check Error\n",
        "from sklearn.metrics import mean_squared_error\n",
        "lrmodelrmse = np.sqrt(mean_squared_error(predict, y_test))\n",
        "print(\"RMSE error for the model is \", lrmodelrmse)\n"
      ],
      "metadata": {
        "id": "pcXE2ESx8t7e"
      },
      "execution_count": null,
      "outputs": []
    },
    {
      "cell_type": "code",
      "source": [
        "from sklearn.ensemble import RandomForestRegressor\n",
        "rfrmodel = RandomForestRegressor(n_estimators = 100, random_state = 101)\n",
        "#Fit the Forest\n",
        "rfrmodel.fit(x_train, y_train)\n",
        "rfrmodel_pred = rfrmodel.predict(x_test)\n",
        "#Errors for the forest\n",
        "rfrmodel_rmse = np.sqrt(mean_squared_error(rfrmodel_pred, y_test))\n",
        "print(\"RMSE value for Random Forest is:\",rfrmodel_rmse)"
      ],
      "metadata": {
        "id": "n5wB7NB38x_x"
      },
      "execution_count": null,
      "outputs": []
    }
  ]
}