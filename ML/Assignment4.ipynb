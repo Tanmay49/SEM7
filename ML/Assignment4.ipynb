{
  "nbformat": 4,
  "nbformat_minor": 0,
  "metadata": {
    "colab": {
      "provenance": []
    },
    "kernelspec": {
      "name": "python3",
      "display_name": "Python 3"
    },
    "language_info": {
      "name": "python"
    }
  },
  "cells": [
    {
      "cell_type": "code",
      "execution_count": 1,
      "metadata": {
        "id": "UcqR-VVe-wOH"
      },
      "outputs": [],
      "source": [
        "cur_x = 2\n",
        "rate = 0.01\n",
        "precision = 0.000001\n",
        "previous_step_size = 1\n",
        "max_iters = 1000\n",
        "iters = 0\n",
        "df = lambda x : 2 * (x + 3)"
      ]
    },
    {
      "cell_type": "code",
      "source": [
        "while previous_step_size > precision and iters < max_iters:\n",
        "    prev_x = cur_x\n",
        "    cur_x -= rate * df(prev_x)\n",
        "    previous_step_size = abs(prev_x - cur_x)\n",
        "    iters += 1\n",
        "print(\"Local Minima Occurs at :\",cur_x)"
      ],
      "metadata": {
        "colab": {
          "base_uri": "https://localhost:8080/"
        },
        "id": "1KOvKbPD-xFR",
        "outputId": "e95cf687-6bf9-49ee-c104-d3bbe5f0c7c6"
      },
      "execution_count": 2,
      "outputs": [
        {
          "output_type": "stream",
          "name": "stdout",
          "text": [
            "Local Minima Occurs at : -2.999951128099859\n"
          ]
        }
      ]
    },
    {
      "cell_type": "code",
      "source": [],
      "metadata": {
        "id": "Iznj83zl-zf-"
      },
      "execution_count": null,
      "outputs": []
    }
  ]
}