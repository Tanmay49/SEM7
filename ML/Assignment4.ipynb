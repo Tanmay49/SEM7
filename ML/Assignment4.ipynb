{
  "cells": [
    {
      "cell_type": "code",
      "execution_count": 1,
      "metadata": {
        "id": "UcqR-VVe-wOH"
      },
      "outputs": [],
      "source": [
        "cur_x = 2\n",
        "rate = 0.01\n",
        "precision = 0.000001\n",
        "previous_step_size = 1\n",
        "max_iters = 1000\n",
        "iters = 0\n",
        "df = lambda x : 2 * (x + 3)"
      ]
    },
    {
      "cell_type": "code",
      "execution_count": 2,
      "metadata": {
        "colab": {
          "base_uri": "https://localhost:8080/"
        },
        "id": "1KOvKbPD-xFR",
        "outputId": "e95cf687-6bf9-49ee-c104-d3bbe5f0c7c6"
      },
      "outputs": [
        {
          "name": "stdout",
          "output_type": "stream",
          "text": [
            "Local Minima Occurs at : -2.999951128099859\n"
          ]
        }
      ],
      "source": [
        "while previous_step_size > precision and iters < max_iters:\n",
        "    prev_x = cur_x\n",
        "    cur_x -= rate * df(prev_x)\n",
        "    previous_step_size = abs(prev_x - cur_x)\n",
        "    iters += 1\n",
        "print(\"Local Minima Occurs at :\",cur_x)"
      ]
    },
    {
      "cell_type": "code",
      "execution_count": null,
      "metadata": {
        "id": "Iznj83zl-zf-"
      },
      "outputs": [],
      "source": []
    }
  ],
  "metadata": {
    "colab": {
      "provenance": []
    },
    "kernelspec": {
      "display_name": "Python 3",
      "name": "python3"
    },
    "language_info": {
      "codemirror_mode": {
        "name": "ipython",
        "version": 3
      },
      "file_extension": ".py",
      "mimetype": "text/x-python",
      "name": "python",
      "nbconvert_exporter": "python",
      "pygments_lexer": "ipython3",
      "version": "3.10.8"
    }
  },
  "nbformat": 4,
  "nbformat_minor": 0
}
