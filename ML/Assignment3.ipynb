{
  "cells": [
    {
      "cell_type": "code",
      "execution_count": 25,
      "metadata": {
        "id": "PjS1-1VY_LuJ"
      },
      "outputs": [],
      "source": [
        "import numpy as np\n",
        "import matplotlib.pyplot as plt\n",
        "import pandas as pd\n",
        "import seaborn as sns\n",
        "sns.set()"
      ]
    },
    {
      "cell_type": "code",
      "execution_count": 26,
      "metadata": {
        "colab": {
          "base_uri": "https://localhost:8080/",
          "height": 322
        },
        "id": "ejPSQB4Q_MuG",
        "outputId": "fd64eb8b-e94e-416e-edf0-46d3379f75c0"
      },
      "outputs": [],
      "source": [
        "dataset = pd.read_csv('Churn_Modelling.csv', index_col = 'RowNumber')\n"
      ]
    },
    {
      "cell_type": "code",
      "execution_count": 27,
      "metadata": {
        "colab": {
          "base_uri": "https://localhost:8080/",
          "height": 228
        },
        "id": "B-ArmmAL_VMx",
        "outputId": "52414f9c-ef3f-43e4-d1f0-30af87a0da07"
      },
      "outputs": [
        {
          "name": "stdout",
          "output_type": "stream",
          "text": [
            "['CreditScore', 'Geography', 'Gender', 'Age', 'Tenure', 'Balance', 'NumOfProducts', 'HasCrCard', 'IsActiveMember', 'EstimatedSalary']\n",
            "['Exited']\n"
          ]
        }
      ],
      "source": [
        "X_columns = dataset.columns.tolist()[2:12]\n",
        "Y_columns = dataset.columns.tolist()[-1:]\n",
        "print(X_columns)\n",
        "print(Y_columns)"
      ]
    },
    {
      "cell_type": "code",
      "execution_count": 28,
      "metadata": {
        "colab": {
          "base_uri": "https://localhost:8080/",
          "height": 194
        },
        "id": "gM2X72Mp_bIl",
        "outputId": "6bc7d143-86af-4548-cd37-14a3aeb90a39"
      },
      "outputs": [],
      "source": [
        "X = dataset[X_columns].values\n",
        "Y = dataset[Y_columns].values"
      ]
    },
    {
      "cell_type": "code",
      "execution_count": 29,
      "metadata": {
        "colab": {
          "base_uri": "https://localhost:8080/",
          "height": 211
        },
        "id": "Nchycozf_dtw",
        "outputId": "9bad845e-f3e0-4d19-ec25-8a8defc26566"
      },
      "outputs": [],
      "source": [
        "from sklearn.preprocessing import LabelEncoder\n",
        "X_column_transformer = LabelEncoder()\n",
        "X[:, 1] = X_column_transformer.fit_transform(X[:, 1])"
      ]
    },
    {
      "cell_type": "code",
      "execution_count": 30,
      "metadata": {
        "colab": {
          "base_uri": "https://localhost:8080/",
          "height": 176
        },
        "id": "h6mHYK4X_d_t",
        "outputId": "5cae01fe-fda3-48cd-e287-2c725132140f"
      },
      "outputs": [],
      "source": [
        "X[:, 2] = X_column_transformer.fit_transform(X[:, 2])"
      ]
    },
    {
      "cell_type": "code",
      "execution_count": 31,
      "metadata": {
        "id": "IqqyGY1T_gPB"
      },
      "outputs": [],
      "source": [
        "from sklearn.preprocessing import StandardScaler, OneHotEncoder\n",
        "from sklearn.compose import ColumnTransformer\n",
        "from sklearn.pipeline import Pipeline\n",
        "\n",
        "pipeline = Pipeline(\n",
        "    [\n",
        "        ('Categorizer', ColumnTransformer(\n",
        "            [\n",
        "                (\"Gender Label Encoder\", OneHotEncoder(categories = 'auto', drop = 'first'), [2]),\n",
        "                (\"Geography Label Encoder\", OneHotEncoder(categories = 'auto', drop = 'first'), [1])\n",
        "            ],\n",
        "            remainder = 'passthrough', n_jobs = 1)),\n",
        "        ('Normalizer', StandardScaler())\n",
        "    ]\n",
        ")"
      ]
    },
    {
      "cell_type": "code",
      "execution_count": 32,
      "metadata": {
        "colab": {
          "base_uri": "https://localhost:8080/",
          "height": 176
        },
        "id": "03bUT5K-_jr4",
        "outputId": "9ed328ae-031c-4401-e721-b32ace7abe1c"
      },
      "outputs": [],
      "source": [
        "X = pipeline.fit_transform(X)"
      ]
    },
    {
      "cell_type": "code",
      "execution_count": 33,
      "metadata": {
        "colab": {
          "base_uri": "https://localhost:8080/",
          "height": 194
        },
        "id": "zhhTQjQB_mRg",
        "outputId": "53eb9182-4aa6-40a0-cbf6-976469301584"
      },
      "outputs": [],
      "source": [
        "from sklearn.model_selection import train_test_split\n",
        "X_train, X_test, y_train, y_test = train_test_split(X, Y, test_size = 0.2, random_state = 0)"
      ]
    },
    {
      "cell_type": "code",
      "execution_count": 34,
      "metadata": {
        "id": "7BCVoZRp_odW"
      },
      "outputs": [
        {
          "name": "stderr",
          "output_type": "stream",
          "text": [
            "2023-10-20 03:31:48.383079: I tensorflow/tsl/cuda/cudart_stub.cc:28] Could not find cuda drivers on your machine, GPU will not be used.\n",
            "2023-10-20 03:31:48.411875: E tensorflow/compiler/xla/stream_executor/cuda/cuda_dnn.cc:9342] Unable to register cuDNN factory: Attempting to register factory for plugin cuDNN when one has already been registered\n",
            "2023-10-20 03:31:48.411907: E tensorflow/compiler/xla/stream_executor/cuda/cuda_fft.cc:609] Unable to register cuFFT factory: Attempting to register factory for plugin cuFFT when one has already been registered\n",
            "2023-10-20 03:31:48.411942: E tensorflow/compiler/xla/stream_executor/cuda/cuda_blas.cc:1518] Unable to register cuBLAS factory: Attempting to register factory for plugin cuBLAS when one has already been registered\n",
            "2023-10-20 03:31:48.418801: I tensorflow/tsl/cuda/cudart_stub.cc:28] Could not find cuda drivers on your machine, GPU will not be used.\n",
            "2023-10-20 03:31:48.431424: I tensorflow/core/platform/cpu_feature_guard.cc:182] This TensorFlow binary is optimized to use available CPU instructions in performance-critical operations.\n",
            "To enable the following instructions: AVX2 FMA, in other operations, rebuild TensorFlow with the appropriate compiler flags.\n",
            "2023-10-20 03:31:50.682217: W tensorflow/compiler/tf2tensorrt/utils/py_utils.cc:38] TF-TRT Warning: Could not find TensorRT\n"
          ]
        }
      ],
      "source": [
        "from keras.models import Sequential\n",
        "from keras.layers import Dense, Dropout"
      ]
    },
    {
      "cell_type": "code",
      "execution_count": 35,
      "metadata": {
        "id": "dbn1HVpb_qcg"
      },
      "outputs": [],
      "source": [
        "classifier = Sequential()"
      ]
    },
    {
      "cell_type": "code",
      "execution_count": 36,
      "metadata": {
        "colab": {
          "base_uri": "https://localhost:8080/",
          "height": 194
        },
        "id": "hiSu7L9e_sMI",
        "outputId": "33d60ae1-098b-4fe0-c9c3-47765553cd07"
      },
      "outputs": [],
      "source": [
        "classifier.add(Dense(6, activation = 'relu', input_shape = (X_train.shape[1], )))\n",
        "classifier.add(Dropout(rate = 0.1))"
      ]
    },
    {
      "cell_type": "code",
      "execution_count": 37,
      "metadata": {
        "id": "uyPopb9n_t1x"
      },
      "outputs": [],
      "source": [
        "classifier.add(Dense(6, activation = 'relu'))\n",
        "classifier.add(Dropout(rate = 0.1))"
      ]
    },
    {
      "cell_type": "code",
      "execution_count": 38,
      "metadata": {
        "id": "1i4meId5_wUv"
      },
      "outputs": [],
      "source": [
        "classifier.add(Dense(1, activation = 'sigmoid'))"
      ]
    },
    {
      "cell_type": "code",
      "execution_count": 39,
      "metadata": {
        "id": "Let0Uq1I_yWL"
      },
      "outputs": [],
      "source": [
        "classifier.compile(optimizer = 'adam', loss = 'binary_crossentropy', metrics = ['accuracy'])"
      ]
    },
    {
      "cell_type": "code",
      "execution_count": 40,
      "metadata": {
        "colab": {
          "base_uri": "https://localhost:8080/",
          "height": 176
        },
        "id": "1XwX_ynJ_30s",
        "outputId": "3b9d0ef0-1d50-4e12-e7cf-25fd0667bed3"
      },
      "outputs": [
        {
          "name": "stdout",
          "output_type": "stream",
          "text": [
            "Epoch 1/200\n"
          ]
        },
        {
          "name": "stdout",
          "output_type": "stream",
          "text": [
            "225/225 - 1s - loss: 0.5291 - accuracy: 0.7962 - val_loss: 0.4869 - val_accuracy: 0.7950 - 1s/epoch - 5ms/step\n",
            "Epoch 2/200\n",
            "225/225 - 0s - loss: 0.4922 - accuracy: 0.7954 - val_loss: 0.4630 - val_accuracy: 0.7950 - 270ms/epoch - 1ms/step\n",
            "Epoch 3/200\n",
            "225/225 - 0s - loss: 0.4728 - accuracy: 0.7960 - val_loss: 0.4494 - val_accuracy: 0.7950 - 260ms/epoch - 1ms/step\n",
            "Epoch 4/200\n",
            "225/225 - 0s - loss: 0.4597 - accuracy: 0.7969 - val_loss: 0.4402 - val_accuracy: 0.7937 - 289ms/epoch - 1ms/step\n",
            "Epoch 5/200\n",
            "225/225 - 0s - loss: 0.4538 - accuracy: 0.7976 - val_loss: 0.4330 - val_accuracy: 0.7987 - 333ms/epoch - 1ms/step\n",
            "Epoch 6/200\n",
            "225/225 - 0s - loss: 0.4449 - accuracy: 0.8026 - val_loss: 0.4258 - val_accuracy: 0.8025 - 281ms/epoch - 1ms/step\n",
            "Epoch 7/200\n",
            "225/225 - 0s - loss: 0.4358 - accuracy: 0.8053 - val_loss: 0.4166 - val_accuracy: 0.8050 - 243ms/epoch - 1ms/step\n",
            "Epoch 8/200\n",
            "225/225 - 0s - loss: 0.4289 - accuracy: 0.8097 - val_loss: 0.4082 - val_accuracy: 0.8087 - 254ms/epoch - 1ms/step\n",
            "Epoch 9/200\n",
            "225/225 - 0s - loss: 0.4222 - accuracy: 0.8099 - val_loss: 0.4005 - val_accuracy: 0.8075 - 243ms/epoch - 1ms/step\n",
            "Epoch 10/200\n",
            "225/225 - 0s - loss: 0.4144 - accuracy: 0.8126 - val_loss: 0.3947 - val_accuracy: 0.8087 - 249ms/epoch - 1ms/step\n",
            "Epoch 11/200\n",
            "225/225 - 0s - loss: 0.4144 - accuracy: 0.8110 - val_loss: 0.3905 - val_accuracy: 0.8087 - 437ms/epoch - 2ms/step\n",
            "Epoch 12/200\n",
            "225/225 - 0s - loss: 0.4087 - accuracy: 0.8133 - val_loss: 0.3862 - val_accuracy: 0.8087 - 267ms/epoch - 1ms/step\n",
            "Epoch 13/200\n",
            "225/225 - 0s - loss: 0.4062 - accuracy: 0.8140 - val_loss: 0.3843 - val_accuracy: 0.8087 - 312ms/epoch - 1ms/step\n",
            "Epoch 14/200\n",
            "225/225 - 0s - loss: 0.4053 - accuracy: 0.8154 - val_loss: 0.3795 - val_accuracy: 0.8100 - 249ms/epoch - 1ms/step\n",
            "Epoch 15/200\n",
            "225/225 - 0s - loss: 0.4011 - accuracy: 0.8206 - val_loss: 0.3781 - val_accuracy: 0.8100 - 255ms/epoch - 1ms/step\n",
            "Epoch 16/200\n",
            "225/225 - 0s - loss: 0.4027 - accuracy: 0.8204 - val_loss: 0.3759 - val_accuracy: 0.8138 - 285ms/epoch - 1ms/step\n",
            "Epoch 17/200\n",
            "225/225 - 0s - loss: 0.4021 - accuracy: 0.8188 - val_loss: 0.3722 - val_accuracy: 0.8200 - 324ms/epoch - 1ms/step\n",
            "Epoch 18/200\n",
            "225/225 - 0s - loss: 0.3981 - accuracy: 0.8319 - val_loss: 0.3696 - val_accuracy: 0.8200 - 299ms/epoch - 1ms/step\n",
            "Epoch 19/200\n",
            "225/225 - 0s - loss: 0.3931 - accuracy: 0.8313 - val_loss: 0.3661 - val_accuracy: 0.8225 - 260ms/epoch - 1ms/step\n",
            "Epoch 20/200\n",
            "225/225 - 0s - loss: 0.3919 - accuracy: 0.8336 - val_loss: 0.3634 - val_accuracy: 0.8500 - 249ms/epoch - 1ms/step\n",
            "Epoch 21/200\n",
            "225/225 - 0s - loss: 0.3930 - accuracy: 0.8358 - val_loss: 0.3621 - val_accuracy: 0.8487 - 241ms/epoch - 1ms/step\n",
            "Epoch 22/200\n",
            "225/225 - 0s - loss: 0.3943 - accuracy: 0.8399 - val_loss: 0.3589 - val_accuracy: 0.8537 - 249ms/epoch - 1ms/step\n",
            "Epoch 23/200\n",
            "225/225 - 0s - loss: 0.3871 - accuracy: 0.8397 - val_loss: 0.3561 - val_accuracy: 0.8550 - 295ms/epoch - 1ms/step\n",
            "Epoch 24/200\n",
            "225/225 - 0s - loss: 0.3921 - accuracy: 0.8389 - val_loss: 0.3549 - val_accuracy: 0.8562 - 287ms/epoch - 1ms/step\n",
            "Epoch 25/200\n",
            "225/225 - 0s - loss: 0.3863 - accuracy: 0.8360 - val_loss: 0.3532 - val_accuracy: 0.8575 - 247ms/epoch - 1ms/step\n",
            "Epoch 26/200\n",
            "225/225 - 0s - loss: 0.3876 - accuracy: 0.8388 - val_loss: 0.3521 - val_accuracy: 0.8612 - 297ms/epoch - 1ms/step\n",
            "Epoch 27/200\n",
            "225/225 - 0s - loss: 0.3870 - accuracy: 0.8414 - val_loss: 0.3512 - val_accuracy: 0.8587 - 256ms/epoch - 1ms/step\n",
            "Epoch 28/200\n",
            "225/225 - 0s - loss: 0.3813 - accuracy: 0.8418 - val_loss: 0.3493 - val_accuracy: 0.8637 - 307ms/epoch - 1ms/step\n",
            "Epoch 29/200\n",
            "225/225 - 0s - loss: 0.3828 - accuracy: 0.8450 - val_loss: 0.3483 - val_accuracy: 0.8650 - 246ms/epoch - 1ms/step\n",
            "Epoch 30/200\n",
            "225/225 - 0s - loss: 0.3852 - accuracy: 0.8440 - val_loss: 0.3482 - val_accuracy: 0.8637 - 252ms/epoch - 1ms/step\n",
            "Epoch 31/200\n",
            "225/225 - 0s - loss: 0.3793 - accuracy: 0.8454 - val_loss: 0.3456 - val_accuracy: 0.8662 - 275ms/epoch - 1ms/step\n",
            "Epoch 32/200\n",
            "225/225 - 0s - loss: 0.3804 - accuracy: 0.8457 - val_loss: 0.3450 - val_accuracy: 0.8662 - 398ms/epoch - 2ms/step\n",
            "Epoch 33/200\n",
            "225/225 - 0s - loss: 0.3782 - accuracy: 0.8444 - val_loss: 0.3443 - val_accuracy: 0.8675 - 257ms/epoch - 1ms/step\n",
            "Epoch 34/200\n",
            "225/225 - 0s - loss: 0.3800 - accuracy: 0.8428 - val_loss: 0.3431 - val_accuracy: 0.8650 - 327ms/epoch - 1ms/step\n",
            "Epoch 35/200\n",
            "225/225 - 0s - loss: 0.3822 - accuracy: 0.8454 - val_loss: 0.3436 - val_accuracy: 0.8662 - 254ms/epoch - 1ms/step\n",
            "Epoch 36/200\n",
            "225/225 - 0s - loss: 0.3779 - accuracy: 0.8428 - val_loss: 0.3426 - val_accuracy: 0.8675 - 282ms/epoch - 1ms/step\n",
            "Epoch 37/200\n",
            "225/225 - 0s - loss: 0.3810 - accuracy: 0.8450 - val_loss: 0.3430 - val_accuracy: 0.8650 - 272ms/epoch - 1ms/step\n",
            "Epoch 38/200\n",
            "225/225 - 0s - loss: 0.3763 - accuracy: 0.8485 - val_loss: 0.3423 - val_accuracy: 0.8625 - 285ms/epoch - 1ms/step\n",
            "Epoch 39/200\n",
            "225/225 - 0s - loss: 0.3748 - accuracy: 0.8478 - val_loss: 0.3410 - val_accuracy: 0.8712 - 241ms/epoch - 1ms/step\n",
            "Epoch 40/200\n",
            "225/225 - 0s - loss: 0.3769 - accuracy: 0.8486 - val_loss: 0.3401 - val_accuracy: 0.8687 - 244ms/epoch - 1ms/step\n",
            "Epoch 41/200\n",
            "225/225 - 0s - loss: 0.3800 - accuracy: 0.8458 - val_loss: 0.3402 - val_accuracy: 0.8650 - 317ms/epoch - 1ms/step\n",
            "Epoch 42/200\n",
            "225/225 - 0s - loss: 0.3786 - accuracy: 0.8447 - val_loss: 0.3386 - val_accuracy: 0.8700 - 243ms/epoch - 1ms/step\n",
            "Epoch 43/200\n",
            "225/225 - 0s - loss: 0.3779 - accuracy: 0.8460 - val_loss: 0.3393 - val_accuracy: 0.8700 - 241ms/epoch - 1ms/step\n",
            "Epoch 44/200\n",
            "225/225 - 0s - loss: 0.3823 - accuracy: 0.8432 - val_loss: 0.3408 - val_accuracy: 0.8675 - 250ms/epoch - 1ms/step\n",
            "Epoch 45/200\n",
            "225/225 - 1s - loss: 0.3761 - accuracy: 0.8444 - val_loss: 0.3390 - val_accuracy: 0.8637 - 749ms/epoch - 3ms/step\n",
            "Epoch 46/200\n",
            "225/225 - 1s - loss: 0.3758 - accuracy: 0.8422 - val_loss: 0.3390 - val_accuracy: 0.8675 - 531ms/epoch - 2ms/step\n",
            "Epoch 47/200\n",
            "225/225 - 1s - loss: 0.3773 - accuracy: 0.8422 - val_loss: 0.3389 - val_accuracy: 0.8650 - 732ms/epoch - 3ms/step\n",
            "Epoch 48/200\n",
            "225/225 - 0s - loss: 0.3801 - accuracy: 0.8442 - val_loss: 0.3403 - val_accuracy: 0.8650 - 268ms/epoch - 1ms/step\n",
            "Epoch 49/200\n",
            "225/225 - 0s - loss: 0.3783 - accuracy: 0.8435 - val_loss: 0.3387 - val_accuracy: 0.8675 - 408ms/epoch - 2ms/step\n",
            "Epoch 50/200\n",
            "225/225 - 0s - loss: 0.3705 - accuracy: 0.8501 - val_loss: 0.3370 - val_accuracy: 0.8662 - 493ms/epoch - 2ms/step\n",
            "Epoch 51/200\n",
            "225/225 - 0s - loss: 0.3731 - accuracy: 0.8442 - val_loss: 0.3380 - val_accuracy: 0.8637 - 275ms/epoch - 1ms/step\n",
            "Epoch 52/200\n",
            "225/225 - 0s - loss: 0.3740 - accuracy: 0.8460 - val_loss: 0.3376 - val_accuracy: 0.8687 - 283ms/epoch - 1ms/step\n",
            "Epoch 53/200\n",
            "225/225 - 0s - loss: 0.3768 - accuracy: 0.8422 - val_loss: 0.3374 - val_accuracy: 0.8712 - 249ms/epoch - 1ms/step\n",
            "Epoch 54/200\n",
            "225/225 - 0s - loss: 0.3746 - accuracy: 0.8449 - val_loss: 0.3368 - val_accuracy: 0.8712 - 250ms/epoch - 1ms/step\n",
            "Epoch 55/200\n",
            "225/225 - 0s - loss: 0.3786 - accuracy: 0.8432 - val_loss: 0.3390 - val_accuracy: 0.8650 - 241ms/epoch - 1ms/step\n",
            "Epoch 56/200\n",
            "225/225 - 0s - loss: 0.3794 - accuracy: 0.8433 - val_loss: 0.3387 - val_accuracy: 0.8687 - 245ms/epoch - 1ms/step\n",
            "Epoch 57/200\n",
            "225/225 - 0s - loss: 0.3764 - accuracy: 0.8476 - val_loss: 0.3369 - val_accuracy: 0.8675 - 285ms/epoch - 1ms/step\n",
            "Epoch 58/200\n",
            "225/225 - 0s - loss: 0.3715 - accuracy: 0.8490 - val_loss: 0.3365 - val_accuracy: 0.8687 - 254ms/epoch - 1ms/step\n",
            "Epoch 59/200\n",
            "225/225 - 0s - loss: 0.3776 - accuracy: 0.8433 - val_loss: 0.3354 - val_accuracy: 0.8700 - 393ms/epoch - 2ms/step\n",
            "Epoch 60/200\n",
            "225/225 - 0s - loss: 0.3729 - accuracy: 0.8483 - val_loss: 0.3353 - val_accuracy: 0.8700 - 288ms/epoch - 1ms/step\n",
            "Epoch 61/200\n",
            "225/225 - 0s - loss: 0.3719 - accuracy: 0.8496 - val_loss: 0.3351 - val_accuracy: 0.8687 - 402ms/epoch - 2ms/step\n",
            "Epoch 62/200\n",
            "225/225 - 0s - loss: 0.3795 - accuracy: 0.8457 - val_loss: 0.3375 - val_accuracy: 0.8675 - 252ms/epoch - 1ms/step\n",
            "Epoch 63/200\n",
            "225/225 - 0s - loss: 0.3759 - accuracy: 0.8440 - val_loss: 0.3369 - val_accuracy: 0.8687 - 326ms/epoch - 1ms/step\n",
            "Epoch 64/200\n",
            "225/225 - 0s - loss: 0.3712 - accuracy: 0.8457 - val_loss: 0.3351 - val_accuracy: 0.8662 - 244ms/epoch - 1ms/step\n",
            "Epoch 65/200\n",
            "225/225 - 0s - loss: 0.3771 - accuracy: 0.8435 - val_loss: 0.3370 - val_accuracy: 0.8675 - 289ms/epoch - 1ms/step\n",
            "Epoch 66/200\n",
            "225/225 - 0s - loss: 0.3777 - accuracy: 0.8442 - val_loss: 0.3363 - val_accuracy: 0.8675 - 244ms/epoch - 1ms/step\n",
            "Epoch 67/200\n",
            "225/225 - 0s - loss: 0.3712 - accuracy: 0.8461 - val_loss: 0.3367 - val_accuracy: 0.8650 - 289ms/epoch - 1ms/step\n",
            "Epoch 68/200\n",
            "225/225 - 0s - loss: 0.3768 - accuracy: 0.8443 - val_loss: 0.3373 - val_accuracy: 0.8675 - 312ms/epoch - 1ms/step\n",
            "Epoch 69/200\n",
            "225/225 - 0s - loss: 0.3761 - accuracy: 0.8457 - val_loss: 0.3366 - val_accuracy: 0.8687 - 268ms/epoch - 1ms/step\n",
            "Epoch 70/200\n",
            "225/225 - 0s - loss: 0.3684 - accuracy: 0.8475 - val_loss: 0.3364 - val_accuracy: 0.8675 - 248ms/epoch - 1ms/step\n",
            "Epoch 71/200\n",
            "225/225 - 0s - loss: 0.3709 - accuracy: 0.8489 - val_loss: 0.3353 - val_accuracy: 0.8650 - 284ms/epoch - 1ms/step\n",
            "Epoch 72/200\n",
            "225/225 - 0s - loss: 0.3728 - accuracy: 0.8487 - val_loss: 0.3368 - val_accuracy: 0.8700 - 298ms/epoch - 1ms/step\n",
            "Epoch 73/200\n",
            "225/225 - 0s - loss: 0.3784 - accuracy: 0.8444 - val_loss: 0.3378 - val_accuracy: 0.8687 - 247ms/epoch - 1ms/step\n",
            "Epoch 74/200\n",
            "225/225 - 0s - loss: 0.3685 - accuracy: 0.8512 - val_loss: 0.3367 - val_accuracy: 0.8662 - 303ms/epoch - 1ms/step\n",
            "Epoch 75/200\n",
            "225/225 - 0s - loss: 0.3740 - accuracy: 0.8476 - val_loss: 0.3348 - val_accuracy: 0.8675 - 247ms/epoch - 1ms/step\n",
            "Epoch 76/200\n",
            "225/225 - 0s - loss: 0.3714 - accuracy: 0.8461 - val_loss: 0.3351 - val_accuracy: 0.8687 - 251ms/epoch - 1ms/step\n",
            "Epoch 77/200\n",
            "225/225 - 0s - loss: 0.3777 - accuracy: 0.8422 - val_loss: 0.3361 - val_accuracy: 0.8662 - 244ms/epoch - 1ms/step\n",
            "Epoch 78/200\n",
            "225/225 - 0s - loss: 0.3659 - accuracy: 0.8494 - val_loss: 0.3354 - val_accuracy: 0.8687 - 391ms/epoch - 2ms/step\n",
            "Epoch 79/200\n",
            "225/225 - 0s - loss: 0.3705 - accuracy: 0.8474 - val_loss: 0.3341 - val_accuracy: 0.8662 - 319ms/epoch - 1ms/step\n",
            "Epoch 80/200\n",
            "225/225 - 0s - loss: 0.3745 - accuracy: 0.8464 - val_loss: 0.3340 - val_accuracy: 0.8675 - 309ms/epoch - 1ms/step\n",
            "Epoch 81/200\n",
            "225/225 - 0s - loss: 0.3712 - accuracy: 0.8475 - val_loss: 0.3337 - val_accuracy: 0.8687 - 432ms/epoch - 2ms/step\n",
            "Epoch 82/200\n",
            "225/225 - 0s - loss: 0.3704 - accuracy: 0.8474 - val_loss: 0.3355 - val_accuracy: 0.8662 - 297ms/epoch - 1ms/step\n",
            "Epoch 83/200\n",
            "225/225 - 0s - loss: 0.3776 - accuracy: 0.8440 - val_loss: 0.3351 - val_accuracy: 0.8687 - 256ms/epoch - 1ms/step\n",
            "Epoch 84/200\n",
            "225/225 - 0s - loss: 0.3736 - accuracy: 0.8467 - val_loss: 0.3333 - val_accuracy: 0.8700 - 250ms/epoch - 1ms/step\n",
            "Epoch 85/200\n",
            "225/225 - 0s - loss: 0.3700 - accuracy: 0.8482 - val_loss: 0.3351 - val_accuracy: 0.8687 - 242ms/epoch - 1ms/step\n",
            "Epoch 86/200\n",
            "225/225 - 0s - loss: 0.3691 - accuracy: 0.8476 - val_loss: 0.3335 - val_accuracy: 0.8687 - 249ms/epoch - 1ms/step\n",
            "Epoch 87/200\n",
            "225/225 - 0s - loss: 0.3712 - accuracy: 0.8490 - val_loss: 0.3342 - val_accuracy: 0.8650 - 291ms/epoch - 1ms/step\n",
            "Epoch 88/200\n",
            "225/225 - 0s - loss: 0.3707 - accuracy: 0.8478 - val_loss: 0.3329 - val_accuracy: 0.8662 - 243ms/epoch - 1ms/step\n",
            "Epoch 89/200\n",
            "225/225 - 0s - loss: 0.3686 - accuracy: 0.8475 - val_loss: 0.3348 - val_accuracy: 0.8637 - 284ms/epoch - 1ms/step\n",
            "Epoch 90/200\n",
            "225/225 - 0s - loss: 0.3748 - accuracy: 0.8446 - val_loss: 0.3361 - val_accuracy: 0.8650 - 251ms/epoch - 1ms/step\n",
            "Epoch 91/200\n",
            "225/225 - 0s - loss: 0.3707 - accuracy: 0.8468 - val_loss: 0.3352 - val_accuracy: 0.8662 - 247ms/epoch - 1ms/step\n",
            "Epoch 92/200\n",
            "225/225 - 0s - loss: 0.3742 - accuracy: 0.8454 - val_loss: 0.3357 - val_accuracy: 0.8662 - 246ms/epoch - 1ms/step\n",
            "Epoch 93/200\n",
            "225/225 - 0s - loss: 0.3678 - accuracy: 0.8465 - val_loss: 0.3342 - val_accuracy: 0.8662 - 250ms/epoch - 1ms/step\n",
            "Epoch 94/200\n",
            "225/225 - 0s - loss: 0.3724 - accuracy: 0.8490 - val_loss: 0.3350 - val_accuracy: 0.8662 - 256ms/epoch - 1ms/step\n",
            "Epoch 95/200\n",
            "225/225 - 0s - loss: 0.3741 - accuracy: 0.8468 - val_loss: 0.3360 - val_accuracy: 0.8675 - 244ms/epoch - 1ms/step\n",
            "Epoch 96/200\n",
            "225/225 - 0s - loss: 0.3668 - accuracy: 0.8500 - val_loss: 0.3337 - val_accuracy: 0.8687 - 246ms/epoch - 1ms/step\n",
            "Epoch 97/200\n",
            "225/225 - 0s - loss: 0.3680 - accuracy: 0.8494 - val_loss: 0.3333 - val_accuracy: 0.8650 - 306ms/epoch - 1ms/step\n",
            "Epoch 98/200\n",
            "225/225 - 0s - loss: 0.3725 - accuracy: 0.8435 - val_loss: 0.3341 - val_accuracy: 0.8662 - 256ms/epoch - 1ms/step\n",
            "Epoch 99/200\n",
            "225/225 - 0s - loss: 0.3733 - accuracy: 0.8461 - val_loss: 0.3352 - val_accuracy: 0.8675 - 249ms/epoch - 1ms/step\n",
            "Epoch 100/200\n",
            "225/225 - 0s - loss: 0.3712 - accuracy: 0.8479 - val_loss: 0.3356 - val_accuracy: 0.8662 - 318ms/epoch - 1ms/step\n",
            "Epoch 101/200\n",
            "225/225 - 0s - loss: 0.3771 - accuracy: 0.8407 - val_loss: 0.3344 - val_accuracy: 0.8675 - 255ms/epoch - 1ms/step\n",
            "Epoch 102/200\n",
            "225/225 - 0s - loss: 0.3647 - accuracy: 0.8479 - val_loss: 0.3331 - val_accuracy: 0.8700 - 280ms/epoch - 1ms/step\n",
            "Epoch 103/200\n",
            "225/225 - 0s - loss: 0.3690 - accuracy: 0.8456 - val_loss: 0.3340 - val_accuracy: 0.8687 - 251ms/epoch - 1ms/step\n",
            "Epoch 104/200\n",
            "225/225 - 0s - loss: 0.3726 - accuracy: 0.8471 - val_loss: 0.3353 - val_accuracy: 0.8700 - 243ms/epoch - 1ms/step\n",
            "Epoch 105/200\n",
            "225/225 - 0s - loss: 0.3711 - accuracy: 0.8475 - val_loss: 0.3342 - val_accuracy: 0.8725 - 301ms/epoch - 1ms/step\n",
            "Epoch 106/200\n",
            "225/225 - 0s - loss: 0.3684 - accuracy: 0.8458 - val_loss: 0.3343 - val_accuracy: 0.8737 - 297ms/epoch - 1ms/step\n",
            "Epoch 107/200\n",
            "225/225 - 0s - loss: 0.3717 - accuracy: 0.8439 - val_loss: 0.3329 - val_accuracy: 0.8675 - 317ms/epoch - 1ms/step\n",
            "Epoch 108/200\n",
            "225/225 - 0s - loss: 0.3716 - accuracy: 0.8474 - val_loss: 0.3342 - val_accuracy: 0.8700 - 246ms/epoch - 1ms/step\n",
            "Epoch 109/200\n",
            "225/225 - 0s - loss: 0.3689 - accuracy: 0.8453 - val_loss: 0.3346 - val_accuracy: 0.8700 - 261ms/epoch - 1ms/step\n",
            "Epoch 110/200\n",
            "225/225 - 0s - loss: 0.3689 - accuracy: 0.8483 - val_loss: 0.3336 - val_accuracy: 0.8687 - 251ms/epoch - 1ms/step\n",
            "Epoch 111/200\n",
            "225/225 - 0s - loss: 0.3661 - accuracy: 0.8490 - val_loss: 0.3335 - val_accuracy: 0.8675 - 251ms/epoch - 1ms/step\n",
            "Epoch 112/200\n",
            "225/225 - 0s - loss: 0.3733 - accuracy: 0.8449 - val_loss: 0.3348 - val_accuracy: 0.8687 - 294ms/epoch - 1ms/step\n",
            "Epoch 113/200\n",
            "225/225 - 0s - loss: 0.3683 - accuracy: 0.8482 - val_loss: 0.3331 - val_accuracy: 0.8700 - 293ms/epoch - 1ms/step\n",
            "Epoch 114/200\n",
            "225/225 - 0s - loss: 0.3716 - accuracy: 0.8490 - val_loss: 0.3348 - val_accuracy: 0.8712 - 249ms/epoch - 1ms/step\n",
            "Epoch 115/200\n",
            "225/225 - 0s - loss: 0.3663 - accuracy: 0.8476 - val_loss: 0.3339 - val_accuracy: 0.8700 - 248ms/epoch - 1ms/step\n",
            "Epoch 116/200\n",
            "225/225 - 0s - loss: 0.3685 - accuracy: 0.8482 - val_loss: 0.3325 - val_accuracy: 0.8712 - 288ms/epoch - 1ms/step\n",
            "Epoch 117/200\n",
            "225/225 - 0s - loss: 0.3746 - accuracy: 0.8442 - val_loss: 0.3345 - val_accuracy: 0.8712 - 376ms/epoch - 2ms/step\n",
            "Epoch 118/200\n",
            "225/225 - 0s - loss: 0.3715 - accuracy: 0.8490 - val_loss: 0.3344 - val_accuracy: 0.8675 - 253ms/epoch - 1ms/step\n",
            "Epoch 119/200\n",
            "225/225 - 0s - loss: 0.3719 - accuracy: 0.8453 - val_loss: 0.3353 - val_accuracy: 0.8662 - 333ms/epoch - 1ms/step\n",
            "Epoch 120/200\n",
            "225/225 - 0s - loss: 0.3679 - accuracy: 0.8457 - val_loss: 0.3333 - val_accuracy: 0.8700 - 392ms/epoch - 2ms/step\n",
            "Epoch 121/200\n",
            "225/225 - 0s - loss: 0.3654 - accuracy: 0.8504 - val_loss: 0.3351 - val_accuracy: 0.8712 - 387ms/epoch - 2ms/step\n",
            "Epoch 122/200\n",
            "225/225 - 0s - loss: 0.3700 - accuracy: 0.8483 - val_loss: 0.3328 - val_accuracy: 0.8712 - 283ms/epoch - 1ms/step\n",
            "Epoch 123/200\n",
            "225/225 - 0s - loss: 0.3718 - accuracy: 0.8458 - val_loss: 0.3337 - val_accuracy: 0.8687 - 249ms/epoch - 1ms/step\n",
            "Epoch 124/200\n",
            "225/225 - 0s - loss: 0.3725 - accuracy: 0.8478 - val_loss: 0.3340 - val_accuracy: 0.8675 - 324ms/epoch - 1ms/step\n",
            "Epoch 125/200\n",
            "225/225 - 0s - loss: 0.3704 - accuracy: 0.8497 - val_loss: 0.3346 - val_accuracy: 0.8662 - 344ms/epoch - 2ms/step\n",
            "Epoch 126/200\n",
            "225/225 - 0s - loss: 0.3683 - accuracy: 0.8517 - val_loss: 0.3338 - val_accuracy: 0.8775 - 254ms/epoch - 1ms/step\n",
            "Epoch 127/200\n",
            "225/225 - 0s - loss: 0.3658 - accuracy: 0.8503 - val_loss: 0.3321 - val_accuracy: 0.8737 - 289ms/epoch - 1ms/step\n",
            "Epoch 128/200\n",
            "225/225 - 0s - loss: 0.3680 - accuracy: 0.8468 - val_loss: 0.3324 - val_accuracy: 0.8725 - 246ms/epoch - 1ms/step\n",
            "Epoch 129/200\n",
            "225/225 - 0s - loss: 0.3695 - accuracy: 0.8471 - val_loss: 0.3336 - val_accuracy: 0.8725 - 243ms/epoch - 1ms/step\n",
            "Epoch 130/200\n",
            "225/225 - 0s - loss: 0.3702 - accuracy: 0.8476 - val_loss: 0.3334 - val_accuracy: 0.8750 - 296ms/epoch - 1ms/step\n",
            "Epoch 131/200\n",
            "225/225 - 0s - loss: 0.3666 - accuracy: 0.8522 - val_loss: 0.3337 - val_accuracy: 0.8712 - 245ms/epoch - 1ms/step\n",
            "Epoch 132/200\n",
            "225/225 - 0s - loss: 0.3705 - accuracy: 0.8468 - val_loss: 0.3344 - val_accuracy: 0.8700 - 243ms/epoch - 1ms/step\n",
            "Epoch 133/200\n",
            "225/225 - 0s - loss: 0.3720 - accuracy: 0.8478 - val_loss: 0.3346 - val_accuracy: 0.8712 - 296ms/epoch - 1ms/step\n",
            "Epoch 134/200\n",
            "225/225 - 0s - loss: 0.3706 - accuracy: 0.8464 - val_loss: 0.3328 - val_accuracy: 0.8737 - 311ms/epoch - 1ms/step\n",
            "Epoch 135/200\n",
            "225/225 - 0s - loss: 0.3693 - accuracy: 0.8481 - val_loss: 0.3316 - val_accuracy: 0.8675 - 261ms/epoch - 1ms/step\n",
            "Epoch 136/200\n",
            "225/225 - 0s - loss: 0.3697 - accuracy: 0.8489 - val_loss: 0.3341 - val_accuracy: 0.8712 - 291ms/epoch - 1ms/step\n",
            "Epoch 137/200\n",
            "225/225 - 0s - loss: 0.3697 - accuracy: 0.8438 - val_loss: 0.3315 - val_accuracy: 0.8712 - 327ms/epoch - 1ms/step\n",
            "Epoch 138/200\n",
            "225/225 - 0s - loss: 0.3702 - accuracy: 0.8446 - val_loss: 0.3328 - val_accuracy: 0.8675 - 266ms/epoch - 1ms/step\n",
            "Epoch 139/200\n",
            "225/225 - 0s - loss: 0.3709 - accuracy: 0.8471 - val_loss: 0.3323 - val_accuracy: 0.8700 - 245ms/epoch - 1ms/step\n",
            "Epoch 140/200\n",
            "225/225 - 0s - loss: 0.3659 - accuracy: 0.8490 - val_loss: 0.3328 - val_accuracy: 0.8712 - 246ms/epoch - 1ms/step\n",
            "Epoch 141/200\n",
            "225/225 - 0s - loss: 0.3662 - accuracy: 0.8506 - val_loss: 0.3324 - val_accuracy: 0.8712 - 257ms/epoch - 1ms/step\n",
            "Epoch 142/200\n",
            "225/225 - 0s - loss: 0.3659 - accuracy: 0.8487 - val_loss: 0.3337 - val_accuracy: 0.8788 - 283ms/epoch - 1ms/step\n",
            "Epoch 143/200\n",
            "225/225 - 0s - loss: 0.3698 - accuracy: 0.8462 - val_loss: 0.3322 - val_accuracy: 0.8737 - 301ms/epoch - 1ms/step\n",
            "Epoch 144/200\n",
            "225/225 - 0s - loss: 0.3719 - accuracy: 0.8467 - val_loss: 0.3322 - val_accuracy: 0.8737 - 266ms/epoch - 1ms/step\n",
            "Epoch 145/200\n",
            "225/225 - 0s - loss: 0.3695 - accuracy: 0.8464 - val_loss: 0.3319 - val_accuracy: 0.8737 - 252ms/epoch - 1ms/step\n",
            "Epoch 146/200\n",
            "225/225 - 0s - loss: 0.3679 - accuracy: 0.8476 - val_loss: 0.3329 - val_accuracy: 0.8725 - 252ms/epoch - 1ms/step\n",
            "Epoch 147/200\n",
            "225/225 - 0s - loss: 0.3688 - accuracy: 0.8483 - val_loss: 0.3327 - val_accuracy: 0.8700 - 247ms/epoch - 1ms/step\n",
            "Epoch 148/200\n",
            "225/225 - 0s - loss: 0.3665 - accuracy: 0.8475 - val_loss: 0.3323 - val_accuracy: 0.8725 - 252ms/epoch - 1ms/step\n",
            "Epoch 149/200\n",
            "225/225 - 0s - loss: 0.3720 - accuracy: 0.8465 - val_loss: 0.3344 - val_accuracy: 0.8750 - 245ms/epoch - 1ms/step\n",
            "Epoch 150/200\n",
            "225/225 - 0s - loss: 0.3665 - accuracy: 0.8487 - val_loss: 0.3337 - val_accuracy: 0.8700 - 285ms/epoch - 1ms/step\n",
            "Epoch 151/200\n",
            "225/225 - 0s - loss: 0.3652 - accuracy: 0.8508 - val_loss: 0.3329 - val_accuracy: 0.8750 - 248ms/epoch - 1ms/step\n",
            "Epoch 152/200\n",
            "225/225 - 0s - loss: 0.3714 - accuracy: 0.8454 - val_loss: 0.3332 - val_accuracy: 0.8737 - 256ms/epoch - 1ms/step\n",
            "Epoch 153/200\n",
            "225/225 - 0s - loss: 0.3680 - accuracy: 0.8454 - val_loss: 0.3325 - val_accuracy: 0.8763 - 350ms/epoch - 2ms/step\n",
            "Epoch 154/200\n",
            "225/225 - 0s - loss: 0.3665 - accuracy: 0.8483 - val_loss: 0.3327 - val_accuracy: 0.8725 - 290ms/epoch - 1ms/step\n",
            "Epoch 155/200\n",
            "225/225 - 0s - loss: 0.3668 - accuracy: 0.8457 - val_loss: 0.3324 - val_accuracy: 0.8750 - 287ms/epoch - 1ms/step\n",
            "Epoch 156/200\n",
            "225/225 - 0s - loss: 0.3666 - accuracy: 0.8464 - val_loss: 0.3321 - val_accuracy: 0.8750 - 324ms/epoch - 1ms/step\n",
            "Epoch 157/200\n",
            "225/225 - 0s - loss: 0.3692 - accuracy: 0.8453 - val_loss: 0.3335 - val_accuracy: 0.8737 - 312ms/epoch - 1ms/step\n",
            "Epoch 158/200\n",
            "225/225 - 0s - loss: 0.3650 - accuracy: 0.8469 - val_loss: 0.3318 - val_accuracy: 0.8775 - 250ms/epoch - 1ms/step\n",
            "Epoch 159/200\n",
            "225/225 - 0s - loss: 0.3668 - accuracy: 0.8454 - val_loss: 0.3320 - val_accuracy: 0.8737 - 260ms/epoch - 1ms/step\n",
            "Epoch 160/200\n",
            "225/225 - 0s - loss: 0.3711 - accuracy: 0.8461 - val_loss: 0.3312 - val_accuracy: 0.8712 - 250ms/epoch - 1ms/step\n",
            "Epoch 161/200\n",
            "225/225 - 0s - loss: 0.3654 - accuracy: 0.8479 - val_loss: 0.3302 - val_accuracy: 0.8725 - 245ms/epoch - 1ms/step\n",
            "Epoch 162/200\n",
            "225/225 - 0s - loss: 0.3620 - accuracy: 0.8486 - val_loss: 0.3298 - val_accuracy: 0.8712 - 285ms/epoch - 1ms/step\n",
            "Epoch 163/200\n",
            "225/225 - 0s - loss: 0.3659 - accuracy: 0.8472 - val_loss: 0.3308 - val_accuracy: 0.8775 - 279ms/epoch - 1ms/step\n",
            "Epoch 164/200\n",
            "225/225 - 0s - loss: 0.3635 - accuracy: 0.8507 - val_loss: 0.3306 - val_accuracy: 0.8763 - 252ms/epoch - 1ms/step\n",
            "Epoch 165/200\n",
            "225/225 - 0s - loss: 0.3678 - accuracy: 0.8447 - val_loss: 0.3306 - val_accuracy: 0.8725 - 281ms/epoch - 1ms/step\n",
            "Epoch 166/200\n",
            "225/225 - 0s - loss: 0.3673 - accuracy: 0.8476 - val_loss: 0.3314 - val_accuracy: 0.8712 - 244ms/epoch - 1ms/step\n",
            "Epoch 167/200\n",
            "225/225 - 0s - loss: 0.3654 - accuracy: 0.8487 - val_loss: 0.3314 - val_accuracy: 0.8725 - 256ms/epoch - 1ms/step\n",
            "Epoch 168/200\n",
            "225/225 - 0s - loss: 0.3638 - accuracy: 0.8503 - val_loss: 0.3294 - val_accuracy: 0.8737 - 246ms/epoch - 1ms/step\n",
            "Epoch 169/200\n",
            "225/225 - 0s - loss: 0.3696 - accuracy: 0.8432 - val_loss: 0.3305 - val_accuracy: 0.8737 - 246ms/epoch - 1ms/step\n",
            "Epoch 170/200\n",
            "225/225 - 0s - loss: 0.3666 - accuracy: 0.8471 - val_loss: 0.3311 - val_accuracy: 0.8700 - 247ms/epoch - 1ms/step\n",
            "Epoch 171/200\n",
            "225/225 - 0s - loss: 0.3721 - accuracy: 0.8429 - val_loss: 0.3311 - val_accuracy: 0.8712 - 260ms/epoch - 1ms/step\n",
            "Epoch 172/200\n",
            "225/225 - 0s - loss: 0.3645 - accuracy: 0.8496 - val_loss: 0.3308 - val_accuracy: 0.8763 - 247ms/epoch - 1ms/step\n",
            "Epoch 173/200\n",
            "225/225 - 0s - loss: 0.3653 - accuracy: 0.8481 - val_loss: 0.3296 - val_accuracy: 0.8737 - 289ms/epoch - 1ms/step\n",
            "Epoch 174/200\n",
            "225/225 - 0s - loss: 0.3677 - accuracy: 0.8476 - val_loss: 0.3305 - val_accuracy: 0.8725 - 310ms/epoch - 1ms/step\n",
            "Epoch 175/200\n",
            "225/225 - 0s - loss: 0.3660 - accuracy: 0.8501 - val_loss: 0.3295 - val_accuracy: 0.8712 - 284ms/epoch - 1ms/step\n",
            "Epoch 176/200\n",
            "225/225 - 0s - loss: 0.3664 - accuracy: 0.8496 - val_loss: 0.3303 - val_accuracy: 0.8712 - 242ms/epoch - 1ms/step\n",
            "Epoch 177/200\n",
            "225/225 - 0s - loss: 0.3628 - accuracy: 0.8475 - val_loss: 0.3315 - val_accuracy: 0.8700 - 245ms/epoch - 1ms/step\n",
            "Epoch 178/200\n",
            "225/225 - 0s - loss: 0.3632 - accuracy: 0.8485 - val_loss: 0.3299 - val_accuracy: 0.8687 - 266ms/epoch - 1ms/step\n",
            "Epoch 179/200\n",
            "225/225 - 0s - loss: 0.3674 - accuracy: 0.8451 - val_loss: 0.3307 - val_accuracy: 0.8687 - 338ms/epoch - 2ms/step\n",
            "Epoch 180/200\n",
            "225/225 - 0s - loss: 0.3716 - accuracy: 0.8474 - val_loss: 0.3329 - val_accuracy: 0.8712 - 264ms/epoch - 1ms/step\n",
            "Epoch 181/200\n",
            "225/225 - 0s - loss: 0.3682 - accuracy: 0.8465 - val_loss: 0.3303 - val_accuracy: 0.8712 - 285ms/epoch - 1ms/step\n",
            "Epoch 182/200\n",
            "225/225 - 0s - loss: 0.3666 - accuracy: 0.8475 - val_loss: 0.3303 - val_accuracy: 0.8750 - 284ms/epoch - 1ms/step\n",
            "Epoch 183/200\n",
            "225/225 - 0s - loss: 0.3676 - accuracy: 0.8426 - val_loss: 0.3293 - val_accuracy: 0.8725 - 261ms/epoch - 1ms/step\n",
            "Epoch 184/200\n",
            "225/225 - 0s - loss: 0.3654 - accuracy: 0.8467 - val_loss: 0.3316 - val_accuracy: 0.8775 - 245ms/epoch - 1ms/step\n",
            "Epoch 185/200\n",
            "225/225 - 0s - loss: 0.3629 - accuracy: 0.8478 - val_loss: 0.3300 - val_accuracy: 0.8725 - 243ms/epoch - 1ms/step\n",
            "Epoch 186/200\n",
            "225/225 - 0s - loss: 0.3630 - accuracy: 0.8486 - val_loss: 0.3309 - val_accuracy: 0.8737 - 254ms/epoch - 1ms/step\n",
            "Epoch 187/200\n",
            "225/225 - 0s - loss: 0.3659 - accuracy: 0.8462 - val_loss: 0.3301 - val_accuracy: 0.8737 - 244ms/epoch - 1ms/step\n",
            "Epoch 188/200\n",
            "225/225 - 0s - loss: 0.3668 - accuracy: 0.8481 - val_loss: 0.3311 - val_accuracy: 0.8775 - 244ms/epoch - 1ms/step\n",
            "Epoch 189/200\n",
            "225/225 - 0s - loss: 0.3711 - accuracy: 0.8457 - val_loss: 0.3310 - val_accuracy: 0.8725 - 288ms/epoch - 1ms/step\n",
            "Epoch 190/200\n",
            "225/225 - 0s - loss: 0.3663 - accuracy: 0.8469 - val_loss: 0.3285 - val_accuracy: 0.8737 - 256ms/epoch - 1ms/step\n",
            "Epoch 191/200\n",
            "225/225 - 0s - loss: 0.3619 - accuracy: 0.8468 - val_loss: 0.3296 - val_accuracy: 0.8788 - 331ms/epoch - 1ms/step\n",
            "Epoch 192/200\n",
            "225/225 - 0s - loss: 0.3613 - accuracy: 0.8486 - val_loss: 0.3276 - val_accuracy: 0.8763 - 292ms/epoch - 1ms/step\n",
            "Epoch 193/200\n",
            "225/225 - 0s - loss: 0.3668 - accuracy: 0.8468 - val_loss: 0.3298 - val_accuracy: 0.8763 - 306ms/epoch - 1ms/step\n",
            "Epoch 194/200\n",
            "225/225 - 0s - loss: 0.3662 - accuracy: 0.8492 - val_loss: 0.3296 - val_accuracy: 0.8712 - 315ms/epoch - 1ms/step\n",
            "Epoch 195/200\n",
            "225/225 - 0s - loss: 0.3663 - accuracy: 0.8446 - val_loss: 0.3297 - val_accuracy: 0.8737 - 244ms/epoch - 1ms/step\n",
            "Epoch 196/200\n",
            "225/225 - 0s - loss: 0.3605 - accuracy: 0.8514 - val_loss: 0.3277 - val_accuracy: 0.8700 - 281ms/epoch - 1ms/step\n",
            "Epoch 197/200\n",
            "225/225 - 0s - loss: 0.3598 - accuracy: 0.8497 - val_loss: 0.3277 - val_accuracy: 0.8763 - 254ms/epoch - 1ms/step\n",
            "Epoch 198/200\n",
            "225/225 - 0s - loss: 0.3621 - accuracy: 0.8487 - val_loss: 0.3291 - val_accuracy: 0.8737 - 242ms/epoch - 1ms/step\n",
            "Epoch 199/200\n",
            "225/225 - 0s - loss: 0.3674 - accuracy: 0.8465 - val_loss: 0.3283 - val_accuracy: 0.8763 - 243ms/epoch - 1ms/step\n",
            "Epoch 200/200\n",
            "225/225 - 0s - loss: 0.3623 - accuracy: 0.8497 - val_loss: 0.3293 - val_accuracy: 0.8775 - 247ms/epoch - 1ms/step\n"
          ]
        }
      ],
      "source": [
        "history = classifier.fit(X_train, y_train, batch_size = 32, epochs = 200, validation_split = 0.1, verbose = 2)"
      ]
    },
    {
      "cell_type": "code",
      "execution_count": 41,
      "metadata": {
        "colab": {
          "base_uri": "https://localhost:8080/",
          "height": 194
        },
        "id": "hTfrtcw3_5ER",
        "outputId": "896510c8-a959-46ec-f3c8-62d273e70c09"
      },
      "outputs": [
        {
          "name": "stdout",
          "output_type": "stream",
          "text": [
            "63/63 [==============================] - 0s 764us/step\n"
          ]
        },
        {
          "name": "stdout",
          "output_type": "stream",
          "text": [
            "[[0.24358848]\n",
            " [0.3375278 ]\n",
            " [0.18739332]\n",
            " [0.0810818 ]\n",
            " [0.11788049]]\n"
          ]
        }
      ],
      "source": [
        "y_pred = classifier.predict(X_test)\n",
        "print(y_pred[:5])"
      ]
    },
    {
      "cell_type": "code",
      "execution_count": 42,
      "metadata": {
        "colab": {
          "base_uri": "https://localhost:8080/",
          "height": 194
        },
        "id": "-G778rWB_6iu",
        "outputId": "a395d2e4-bc5c-4cf5-80b4-0c307e47d52b"
      },
      "outputs": [
        {
          "name": "stdout",
          "output_type": "stream",
          "text": [
            "[[0]\n",
            " [0]\n",
            " [0]\n",
            " [0]\n",
            " [0]]\n"
          ]
        }
      ],
      "source": [
        "y_pred = (y_pred > 0.5).astype(int)\n",
        "print(y_pred[:5])"
      ]
    },
    {
      "cell_type": "code",
      "execution_count": 43,
      "metadata": {
        "colab": {
          "base_uri": "https://localhost:8080/",
          "height": 211
        },
        "id": "-9b0rtn5_8qh",
        "outputId": "8045934a-e6b7-44cd-ab64-4096bfa2a254"
      },
      "outputs": [
        {
          "name": "stdout",
          "output_type": "stream",
          "text": [
            "[[1516   79]\n",
            " [ 195  210]]\n"
          ]
        }
      ],
      "source": [
        "from sklearn.metrics import confusion_matrix\n",
        "cm = confusion_matrix(y_test, y_pred)\n",
        "print(cm)"
      ]
    },
    {
      "cell_type": "code",
      "execution_count": 44,
      "metadata": {
        "id": "PBfZIfUtAADD"
      },
      "outputs": [
        {
          "name": "stdout",
          "output_type": "stream",
          "text": [
            "86.3 % of data was classified correctly\n"
          ]
        }
      ],
      "source": [
        "print(((cm[0][0] + cm[1][1])* 100) / len(y_test), '% of data was classified correctly')"
      ]
    },
    {
      "cell_type": "code",
      "execution_count": null,
      "metadata": {
        "id": "qpwBESa8AAOG"
      },
      "outputs": [],
      "source": []
    }
  ],
  "metadata": {
    "colab": {
      "provenance": []
    },
    "kernelspec": {
      "display_name": "Python 3",
      "name": "python3"
    },
    "language_info": {
      "codemirror_mode": {
        "name": "ipython",
        "version": 3
      },
      "file_extension": ".py",
      "mimetype": "text/x-python",
      "name": "python",
      "nbconvert_exporter": "python",
      "pygments_lexer": "ipython3",
      "version": "3.10.8"
    }
  },
  "nbformat": 4,
  "nbformat_minor": 0
}
